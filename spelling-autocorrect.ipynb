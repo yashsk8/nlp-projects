{
 "cells": [
  {
   "cell_type": "markdown",
   "id": "3416a6fc",
   "metadata": {},
   "source": [
    "Type: Learning Project \\\n",
    "Author: Yash K\n",
    "\n",
    "#### About: Spelling Autocorrect\n",
    "Based on the current typed word predict the next most probable word\n",
    "\n",
    "Data set: \\\n",
    "A book consisiting of many sentences."
   ]
  },
  {
   "cell_type": "code",
   "execution_count": 2,
   "id": "32f14578",
   "metadata": {},
   "outputs": [],
   "source": [
    "#imports\n",
    "import warnings\n",
    "warnings.filterwarnings('ignore')\n",
    "import string\n",
    "import re\n",
    "from collections import Counter\n",
    "\n",
    "#generic/data\n",
    "import numpy as np\n",
    "import pandas as pd\n",
    "from scipy.sparse import hstack\n",
    "\n",
    "#plotting\n",
    "import matplotlib.pyplot as plt\n",
    "import seaborn as sns\n",
    "from pandas.plotting import scatter_matrix\n",
    "from wordcloud import WordCloud\n",
    "\n",
    "#utility\n",
    "import re\n",
    "from tqdm.notebook import tqdm\n",
    "import textdistance\n",
    "\n",
    "#ML\n",
    "\n",
    "#NLP"
   ]
  },
  {
   "cell_type": "markdown",
   "id": "46930826",
   "metadata": {},
   "source": [
    "###### Load data"
   ]
  },
  {
   "cell_type": "code",
   "execution_count": 4,
   "id": "c75c2fb6",
   "metadata": {},
   "outputs": [],
   "source": [
    "# Create vocabulary\n",
    "words=[]\n",
    "with open('./spelling-autocorrect-data/book.txt', 'r') as f:\n",
    "    file_data = f.read()\n",
    "    file_data=file_data.lower()\n",
    "    words = re.findall('\\w+', file_data)"
   ]
  },
  {
   "cell_type": "code",
   "execution_count": 5,
   "id": "1e76f8f6",
   "metadata": {},
   "outputs": [],
   "source": [
    "vocab = set(words)"
   ]
  },
  {
   "cell_type": "code",
   "execution_count": 6,
   "id": "92460570",
   "metadata": {},
   "outputs": [
    {
     "data": {
      "text/plain": [
       "17647"
      ]
     },
     "execution_count": 6,
     "metadata": {},
     "output_type": "execute_result"
    }
   ],
   "source": [
    "len(vocab)"
   ]
  },
  {
   "cell_type": "code",
   "execution_count": 9,
   "id": "336a65fc",
   "metadata": {},
   "outputs": [
    {
     "data": {
      "text/plain": [
       "[('the', 14703), ('of', 6742), ('and', 6517), ('a', 4799), ('to', 4707)]"
      ]
     },
     "execution_count": 9,
     "metadata": {},
     "output_type": "execute_result"
    }
   ],
   "source": [
    "#build frequency\n",
    "word_freq_dict = Counter(words)\n",
    "word_freq_dict.most_common()[:5]"
   ]
  },
  {
   "cell_type": "code",
   "execution_count": 10,
   "id": "43a44fe1",
   "metadata": {},
   "outputs": [],
   "source": [
    "#create relative frequency of words\n",
    "probs = {}\n",
    "total = sum(word_freq_dict.values())\n",
    "for word in word_freq_dict.keys():\n",
    "    probs[word] = word_freq_dict[word]/total"
   ]
  },
  {
   "cell_type": "markdown",
   "id": "5442f27f",
   "metadata": {},
   "source": [
    "###### Finding similar words"
   ]
  },
  {
   "cell_type": "code",
   "execution_count": 26,
   "id": "b74f5723",
   "metadata": {},
   "outputs": [],
   "source": [
    "#sort words according to jaccard distance by calculating 2-gram Q of words\n",
    "def autocorrect(word):\n",
    "    word = word.lower()\n",
    "    if word in vocab:\n",
    "        return 'Correct word'\n",
    "    else:\n",
    "        similarities = [1-textdistance.Jaccard(qval=2).distance(v, word) for v in word_freq_dict.keys()]\n",
    "        df = pd.DataFrame.from_dict(probs, orient='index').reset_index()\n",
    "        df = df.rename(columns={'index':'Word', 0:'Prob'})\n",
    "        df['Similarity'] = similarities\n",
    "        output  = df.sort_values(['Similarity', 'Prob'], ascending=False).head()\n",
    "        return output"
   ]
  },
  {
   "cell_type": "code",
   "execution_count": 28,
   "id": "79231541",
   "metadata": {},
   "outputs": [
    {
     "data": {
      "text/html": [
       "<div>\n",
       "<style scoped>\n",
       "    .dataframe tbody tr th:only-of-type {\n",
       "        vertical-align: middle;\n",
       "    }\n",
       "\n",
       "    .dataframe tbody tr th {\n",
       "        vertical-align: top;\n",
       "    }\n",
       "\n",
       "    .dataframe thead th {\n",
       "        text-align: right;\n",
       "    }\n",
       "</style>\n",
       "<table border=\"1\" class=\"dataframe\">\n",
       "  <thead>\n",
       "    <tr style=\"text-align: right;\">\n",
       "      <th></th>\n",
       "      <th>Word</th>\n",
       "      <th>Prob</th>\n",
       "      <th>Similarity</th>\n",
       "    </tr>\n",
       "  </thead>\n",
       "  <tbody>\n",
       "    <tr>\n",
       "      <th>678</th>\n",
       "      <td>who</td>\n",
       "      <td>0.001644</td>\n",
       "      <td>0.333333</td>\n",
       "    </tr>\n",
       "    <tr>\n",
       "      <th>2011</th>\n",
       "      <td>why</td>\n",
       "      <td>0.000534</td>\n",
       "      <td>0.333333</td>\n",
       "    </tr>\n",
       "    <tr>\n",
       "      <th>486</th>\n",
       "      <td>what</td>\n",
       "      <td>0.002771</td>\n",
       "      <td>0.250000</td>\n",
       "    </tr>\n",
       "    <tr>\n",
       "      <th>766</th>\n",
       "      <td>when</td>\n",
       "      <td>0.002726</td>\n",
       "      <td>0.250000</td>\n",
       "    </tr>\n",
       "    <tr>\n",
       "      <th>633</th>\n",
       "      <td>whom</td>\n",
       "      <td>0.000202</td>\n",
       "      <td>0.250000</td>\n",
       "    </tr>\n",
       "  </tbody>\n",
       "</table>\n",
       "</div>"
      ],
      "text/plain": [
       "      Word      Prob  Similarity\n",
       "678    who  0.001644    0.333333\n",
       "2011   why  0.000534    0.333333\n",
       "486   what  0.002771    0.250000\n",
       "766   when  0.002726    0.250000\n",
       "633   whom  0.000202    0.250000"
      ]
     },
     "execution_count": 28,
     "metadata": {},
     "output_type": "execute_result"
    }
   ],
   "source": [
    "#run\n",
    "autocorrect('wht')"
   ]
  },
  {
   "cell_type": "code",
   "execution_count": null,
   "id": "75b297d7",
   "metadata": {},
   "outputs": [],
   "source": []
  }
 ],
 "metadata": {
  "kernelspec": {
   "display_name": "projectEnv",
   "language": "python",
   "name": "projectenv"
  },
  "language_info": {
   "codemirror_mode": {
    "name": "ipython",
    "version": 3
   },
   "file_extension": ".py",
   "mimetype": "text/x-python",
   "name": "python",
   "nbconvert_exporter": "python",
   "pygments_lexer": "ipython3",
   "version": "3.9.7"
  }
 },
 "nbformat": 4,
 "nbformat_minor": 5
}
